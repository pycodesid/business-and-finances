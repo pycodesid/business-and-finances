{
 "cells": [
  {
   "cell_type": "markdown",
   "metadata": {
    "id": "o_pWNf0qYTd5"
   },
   "source": [
    "# Predicting Option Price using American Binomial Options"
   ]
  },
  {
   "cell_type": "markdown",
   "metadata": {
    "id": "JJ2pt7C9Yqaa"
   },
   "source": [
    "In this case ABC company uses binomial American call option pricing to determine the fair value of Company XYZ's participation rights in the X project. We note that:\n",
    "ABC assumes that the stock price of X can either up or down and has a terminal value. However, based on information from XYZ management, the X project has a duration of only 20 years, making it unlikely for the project to have a terminal value. Additionally, the stock price of the X project is likely to decline over time, as future cash flows obtained by XYZ decrease."
   ]
  },
  {
   "cell_type": "markdown",
   "metadata": {
    "id": "qwca2-lrgSRd"
   },
   "source": [
    "## Import Libraries"
   ]
  },
  {
   "cell_type": "code",
   "execution_count": 1,
   "metadata": {
    "id": "TqF_pVHJexv8"
   },
   "outputs": [],
   "source": [
    "import pandas as pd\n",
    "import numpy as np"
   ]
  },
  {
   "cell_type": "markdown",
   "metadata": {
    "id": "44JO5KYqo329"
   },
   "source": [
    "## Data Inputs"
   ]
  },
  {
   "cell_type": "markdown",
   "metadata": {
    "id": "yGEGTurjZ_io"
   },
   "source": [
    "Due to the XYZ management, the participating right is set to 5 years. During this duration ABC has the option to buy the underlying asset."
   ]
  },
  {
   "cell_type": "code",
   "execution_count": 2,
   "metadata": {
    "id": "g7D4SzGOgZMK"
   },
   "outputs": [],
   "source": [
    "# initial parameters\n",
    "\n",
    "period = 5 # in years\n",
    "numberofDays = 252 * period #252 trading days each year"
   ]
  },
  {
   "cell_type": "markdown",
   "metadata": {
    "id": "fnFlCojQaUhE"
   },
   "source": [
    "The parameters to determine the budgeted capex cost of Project X are adjusted every 6 months during the participation right. Therefore, we need to create a 6-month array before assigning the parameters into the daily array."
   ]
  },
  {
   "cell_type": "code",
   "execution_count": 3,
   "metadata": {
    "id": "LZWE6hQS57vV"
   },
   "outputs": [],
   "source": [
    "# initiate 6 month array\n",
    "\n",
    "basePrice_6month          = [29000,    29000,    29000,    29000,     29000,     29000,      29000,      29000,      29000,      29000,      29000  ]\n",
    "interest_6month           = [0.00,     0.04,     0.08,     0.12,      0.16,      0.20,       0.24,       0.28,       0.32,       0.36,       0.40   ]\n",
    "fixAdjustment_6month      = [1.0203,   1.0203,   1.0217,   1.0217,    1.0217,    1.0217,     1.0217,     1.0217,     1.0217,     1.0217,     1.0217 ]\n",
    "incentives_6month         = [0,        0,        0.05,     0.05,      0.10,      0.10,       0.10,       0.10,       0.05,       0.05,       0.05   ]\n",
    "nameplateCapacity_6month  = [120000,   120000,   120000,   120000,    120000,    120000,     120000,     120000,     120000,     120000,     120000 ]"
   ]
  },
  {
   "cell_type": "code",
   "execution_count": 4,
   "metadata": {
    "id": "Xc9_y2L4MCXn"
   },
   "outputs": [],
   "source": [
    "# initiate daily array to calculate budgeted capex\n",
    "\n",
    "basePrice = np.zeros(numberofDays+1)\n",
    "interest = np.zeros(numberofDays+1)\n",
    "fxAdjustment = np.zeros(numberofDays+1)\n",
    "incentives = np.zeros(numberofDays+1)\n",
    "nameplateCapacity = np.zeros(numberofDays+1)"
   ]
  },
  {
   "cell_type": "markdown",
   "metadata": {
    "id": "Tq_-pnWPbmSB"
   },
   "source": [
    "To assign 6-month parameters to the daily array, we need a function that assigns the parameters for each 6-month period."
   ]
  },
  {
   "cell_type": "code",
   "execution_count": 5,
   "metadata": {
    "id": "twr0uMZDx7Lf"
   },
   "outputs": [],
   "source": [
    "# assign 6 month array into daily array\n",
    "\n",
    "def sixmonthToDaily(dailyArray,sixmonthArray):\n",
    "  j = 0\n",
    "  for i in range(len(dailyArray)):\n",
    "    if i>0 and (i % (6 * 21) == 0):\n",
    "      j = j + 1\n",
    "    dailyArray[i] = sixmonthArray[j]\n",
    "  return dailyArray"
   ]
  },
  {
   "cell_type": "code",
   "execution_count": 6,
   "metadata": {
    "id": "5VzlX82wFtwa"
   },
   "outputs": [],
   "source": [
    "# convert array from 6 month to daily with functions above\n",
    "\n",
    "basePrice = sixmonthToDaily(basePrice,basePrice_6month)\n",
    "interest = sixmonthToDaily(interest,interest_6month)\n",
    "fxAdjustment = sixmonthToDaily(fxAdjustment,fixAdjustment_6month)\n",
    "incentives = sixmonthToDaily(incentives,incentives_6month)\n",
    "nameplateCapacity = sixmonthToDaily(nameplateCapacity,nameplateCapacity_6month)"
   ]
  },
  {
   "cell_type": "markdown",
   "metadata": {
    "id": "G1VfTlcGcG4o"
   },
   "source": [
    "The budgeted capex cost is determined based on following formula (definitive agreement):"
   ]
  },
  {
   "cell_type": "code",
   "execution_count": 7,
   "metadata": {
    "id": "GpJWvfTPIls_"
   },
   "outputs": [],
   "source": [
    "budgetedCapex = basePrice * ((np.ones(numberofDays+1) + interest) * fxAdjustment + incentives) * nameplateCapacity # based on definitive agreement"
   ]
  },
  {
   "cell_type": "code",
   "execution_count": 8,
   "metadata": {
    "id": "pFEt0_MyI5NI"
   },
   "outputs": [],
   "source": [
    "budgetedCapex = budgetedCapex / 1e6 # convert to million usd"
   ]
  },
  {
   "cell_type": "code",
   "execution_count": 9,
   "metadata": {
    "colab": {
     "base_uri": "https://localhost:8080/"
    },
    "id": "ESpvswfiJGiV",
    "outputId": "7884494d-e784-4a13-9655-1e0f34b680bc"
   },
   "outputs": [
    {
     "name": "stdout",
     "output_type": "stream",
     "text": [
      "Budgeted Capex in Million USD: [3550.644   3550.644   3550.644   ... 5009.50176 5009.50176 5151.7224 ]\n"
     ]
    }
   ],
   "source": [
    "print(f\"Budgeted Capex in Million USD: {budgetedCapex}\")"
   ]
  },
  {
   "cell_type": "code",
   "execution_count": 10,
   "metadata": {
    "id": "uWumgNGlMHRt"
   },
   "outputs": [],
   "source": [
    "# initiate daily array to calculate strike price\n",
    "\n",
    "capexLoan = np.zeros(numberofDays+1)\n",
    "accruedCapex = np.zeros(numberofDays+1)\n",
    "firstprDeduction = np.zeros(numberofDays+1)"
   ]
  },
  {
   "cell_type": "code",
   "execution_count": 11,
   "metadata": {
    "id": "AIQ9g1sdMKyD"
   },
   "outputs": [],
   "source": [
    "# in million usd\n",
    "\n",
    "capexLoan_6month         = [0,        2096,      1796,      1497,       1197,       898,      599,       299,        0,       0,       0      ]\n",
    "accruedCapex_6month      = [10,       10,        10,        10,         10,         10,       10,        10,         10,      10,      10     ]\n",
    "firstprDeduction_6month  = [12.26,    12.26,     12.26,     12.26,      12.26,      12.26,    12.26,     12.26,      12.26,   12.26,   12.26  ]"
   ]
  },
  {
   "cell_type": "code",
   "execution_count": 12,
   "metadata": {
    "id": "nHIFBVmj_7In"
   },
   "outputs": [],
   "source": [
    "# convert to daily array\n",
    "\n",
    "capexLoan = sixmonthToDaily(capexLoan,capexLoan_6month)\n",
    "accruedCapex = sixmonthToDaily(accruedCapex,accruedCapex_6month)\n",
    "firstprDeduction = sixmonthToDaily(firstprDeduction,firstprDeduction_6month)"
   ]
  },
  {
   "cell_type": "markdown",
   "metadata": {
    "id": "9ewJJ2ZJcURF"
   },
   "source": [
    "The exercise is determined using the following formula (definitive agreement):"
   ]
  },
  {
   "cell_type": "code",
   "execution_count": 13,
   "metadata": {
    "id": "WOFODyrmAbSL"
   },
   "outputs": [],
   "source": [
    "# calculate exercise price\n",
    "\n",
    "exercisePrice = budgetedCapex - capexLoan - accruedCapex - firstprDeduction\n",
    "exercisePrice = 0.3 * exercisePrice # 30% of underlying asset will be traded based on definitive agreement"
   ]
  },
  {
   "cell_type": "code",
   "execution_count": 14,
   "metadata": {
    "colab": {
     "base_uri": "https://localhost:8080/"
    },
    "id": "m5RDHclFAuVD",
    "outputId": "b648373e-3944-43eb-9af7-53f2ab54ef85"
   },
   "outputs": [
    {
     "name": "stdout",
     "output_type": "stream",
     "text": [
      "Exercise Price in Million USD: [1058.5152   1058.5152   1058.5152   ... 1496.172528 1496.172528\n",
      " 1538.83872 ]\n"
     ]
    }
   ],
   "source": [
    "print(f\"Exercise Price in Million USD: {exercisePrice}\")"
   ]
  },
  {
   "cell_type": "markdown",
   "metadata": {
    "id": "jOW6LddqCXxC"
   },
   "source": [
    "## Calculate Binomial"
   ]
  },
  {
   "cell_type": "markdown",
   "metadata": {
    "id": "lc1Q_aPRcfpx"
   },
   "source": [
    "The following parameters are used to determine up move, down move, and their probabilities of the underlying asset's price."
   ]
  },
  {
   "cell_type": "code",
   "execution_count": 15,
   "metadata": {
    "id": "-A29JrEyQ_Ab"
   },
   "outputs": [],
   "source": [
    "# initiates american binomial option parameters\n",
    "\n",
    "volatility = 0.5282\n",
    "rf = 0.0438 # risk free rate\n",
    "dt = period / numberofDays # delta time\n",
    "underlyingAsset0 = 3683.1 * 0.3 # 30% of underlying asset will be traded based on definitive agreement"
   ]
  },
  {
   "cell_type": "code",
   "execution_count": 16,
   "metadata": {
    "id": "s9_lHLSiAv-M"
   },
   "outputs": [],
   "source": [
    "# calculate up down move\n",
    "\n",
    "up = np.exp(volatility * np.sqrt(dt))\n",
    "down = 1 / up\n",
    "pu = (np.exp(rf * dt) - down) / (up - down) # probability up\n",
    "pd = 1 - pu # probability down"
   ]
  },
  {
   "cell_type": "code",
   "execution_count": 17,
   "metadata": {
    "id": "2TIdKYwRSDRV"
   },
   "outputs": [],
   "source": [
    "# initiate matrix\n",
    "\n",
    "optionPrice = np.zeros((numberofDays+1, numberofDays+1))\n",
    "underlyingAsset = np.zeros((numberofDays+1, numberofDays+1))"
   ]
  },
  {
   "cell_type": "markdown",
   "metadata": {
    "id": "1V471RSKcrq5"
   },
   "source": [
    "After that, we calculate the underlying asset movement in daily basis during participating right duration."
   ]
  },
  {
   "cell_type": "code",
   "execution_count": 18,
   "metadata": {
    "colab": {
     "base_uri": "https://localhost:8080/"
    },
    "id": "L1Yjp1zNZiOU",
    "outputId": "5ddd868d-1c8f-4623-fbde-e22e91c51145"
   },
   "outputs": [
    {
     "data": {
      "text/plain": [
       "array([[1.10493000e+03, 1.14231335e+03, 1.18096149e+03, ...,\n",
       "        1.66742187e+21, 1.72383613e+21, 1.78215906e+21],\n",
       "       [0.00000000e+00, 1.06877006e+03, 1.10493000e+03, ...,\n",
       "        1.56007157e+21, 1.61285382e+21, 1.66742187e+21],\n",
       "       [0.00000000e+00, 0.00000000e+00, 1.03379349e+03, ...,\n",
       "        1.45963259e+21, 1.50901667e+21, 1.56007157e+21],\n",
       "       ...,\n",
       "       [0.00000000e+00, 0.00000000e+00, 0.00000000e+00, ...,\n",
       "        7.32190413e-16, 7.56962776e-16, 7.82573269e-16],\n",
       "       [0.00000000e+00, 0.00000000e+00, 0.00000000e+00, ...,\n",
       "        0.00000000e+00, 7.08228750e-16, 7.32190413e-16],\n",
       "       [0.00000000e+00, 0.00000000e+00, 0.00000000e+00, ...,\n",
       "        0.00000000e+00, 0.00000000e+00, 6.85051256e-16]])"
      ]
     },
     "execution_count": 18,
     "metadata": {},
     "output_type": "execute_result"
    }
   ],
   "source": [
    "# calculate underlying asset movement\n",
    "\n",
    "for j in range(numberofDays + 1):\n",
    "  underlyingAsset[j, numberofDays] = underlyingAsset0 * (up ** (numberofDays - j)) * (down ** j)\n",
    "\n",
    "for i in range(numberofDays - 1, -1, -1):\n",
    "  for j in range(i + 1):\n",
    "    underlyingAsset[j, i] = underlyingAsset[j, i + 1] / up\n",
    "\n",
    "underlyingAsset"
   ]
  },
  {
   "cell_type": "markdown",
   "metadata": {
    "id": "y28PVWjuc_Eb"
   },
   "source": [
    "Finally, after calculating the underlying asset movement, we calculate the option price of executing (buying) X project during participating right."
   ]
  },
  {
   "cell_type": "code",
   "execution_count": 19,
   "metadata": {
    "colab": {
     "base_uri": "https://localhost:8080/"
    },
    "id": "gOxv9uWRvQlJ",
    "outputId": "733df740-a92f-41fe-8a54-bca0b6c36bbf"
   },
   "outputs": [
    {
     "data": {
      "text/plain": [
       "array([[7.10014608e+02, 7.44858745e+02, 7.81083105e+02, ...,\n",
       "        1.66742187e+21, 1.72383613e+21, 1.78215906e+21],\n",
       "       [0.00000000e+00, 6.76200834e+02, 7.09707872e+02, ...,\n",
       "        1.56007157e+21, 1.61285382e+21, 1.66742187e+21],\n",
       "       [0.00000000e+00, 0.00000000e+00, 6.43682363e+02, ...,\n",
       "        1.45963259e+21, 1.50901667e+21, 1.56007157e+21],\n",
       "       ...,\n",
       "       [0.00000000e+00, 0.00000000e+00, 0.00000000e+00, ...,\n",
       "        0.00000000e+00, 0.00000000e+00, 0.00000000e+00],\n",
       "       [0.00000000e+00, 0.00000000e+00, 0.00000000e+00, ...,\n",
       "        0.00000000e+00, 0.00000000e+00, 0.00000000e+00],\n",
       "       [0.00000000e+00, 0.00000000e+00, 0.00000000e+00, ...,\n",
       "        0.00000000e+00, 0.00000000e+00, 0.00000000e+00]])"
      ]
     },
     "execution_count": 19,
     "metadata": {},
     "output_type": "execute_result"
    }
   ],
   "source": [
    "# calculate option price\n",
    "\n",
    "for j in range(numberofDays + 1):\n",
    "  optionPrice[j, numberofDays] = max(0, underlyingAsset[j, numberofDays] - exercisePrice[j])\n",
    "\n",
    "for i in range(numberofDays - 1, -1, -1):\n",
    "  for j in range(i + 1):\n",
    "    optionPrice[j, i] = max(0, underlyingAsset[j, i] - exercisePrice[j], np.exp(-rf * dt) * (pu * optionPrice[j, i + 1] + (1 - pu) * optionPrice[j + 1, i + 1]))\n",
    "\n",
    "\n",
    "optionPrice"
   ]
  },
  {
   "cell_type": "markdown",
   "metadata": {
    "id": "CEb6upaKdLjn"
   },
   "source": [
    "So, from above calculation, the option price to buy 30% of underlying asset of X project:"
   ]
  },
  {
   "cell_type": "code",
   "execution_count": 20,
   "metadata": {
    "colab": {
     "base_uri": "https://localhost:8080/"
    },
    "id": "fmGSiMVtwXwL",
    "outputId": "970f1777-9755-4ded-eb2a-e35439c435b5"
   },
   "outputs": [
    {
     "name": "stdout",
     "output_type": "stream",
     "text": [
      "Option Price: 710.0146079070705 million USD\n"
     ]
    }
   ],
   "source": [
    "print(f\"Option Price: {optionPrice[0][0]} million USD\")"
   ]
  }
 ],
 "metadata": {
  "colab": {
   "provenance": [],
   "toc_visible": true
  },
  "kernelspec": {
   "display_name": "Python 3 (ipykernel)",
   "language": "python",
   "name": "python3"
  },
  "language_info": {
   "codemirror_mode": {
    "name": "ipython",
    "version": 3
   },
   "file_extension": ".py",
   "mimetype": "text/x-python",
   "name": "python",
   "nbconvert_exporter": "python",
   "pygments_lexer": "ipython3",
   "version": "3.11.5"
  }
 },
 "nbformat": 4,
 "nbformat_minor": 1
}
