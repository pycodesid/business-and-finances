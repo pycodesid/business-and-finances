{
  "nbformat": 4,
  "nbformat_minor": 0,
  "metadata": {
    "colab": {
      "provenance": [],
      "toc_visible": true
    },
    "kernelspec": {
      "name": "python3",
      "display_name": "Python 3"
    },
    "language_info": {
      "name": "python"
    }
  },
  "cells": [
    {
      "cell_type": "markdown",
      "source": [
        "# Predicting Option Price using American Binomial Options"
      ],
      "metadata": {
        "id": "o_pWNf0qYTd5"
      }
    },
    {
      "cell_type": "markdown",
      "source": [
        "In this case ABC company uses binomial American call option pricing to determine the fair value of Company XYZ's participation rights in the X project. We note that:\n",
        "ABC assumes that the stock price of X can either up or down and has a terminal value. However, based on information from XYZ management, the X project has a duration of only 20 years, making it unlikely for the project to have a terminal value. Additionally, the stock price of the X project is likely to decline over time, as future cash flows obtained by XYZ decrease."
      ],
      "metadata": {
        "id": "JJ2pt7C9Yqaa"
      }
    },
    {
      "cell_type": "markdown",
      "source": [
        "## Import Libraries"
      ],
      "metadata": {
        "id": "qwca2-lrgSRd"
      }
    },
    {
      "cell_type": "code",
      "execution_count": 1,
      "metadata": {
        "id": "TqF_pVHJexv8"
      },
      "outputs": [],
      "source": [
        "import pandas as pd\n",
        "import numpy as np"
      ]
    },
    {
      "cell_type": "markdown",
      "source": [
        "## Data Inputs"
      ],
      "metadata": {
        "id": "44JO5KYqo329"
      }
    },
    {
      "cell_type": "markdown",
      "source": [
        "Due to the XYZ management, the participating right is set to 5 years. During this duration ABC has the option to buy the underlying asset."
      ],
      "metadata": {
        "id": "yGEGTurjZ_io"
      }
    },
    {
      "cell_type": "code",
      "source": [
        "# initial parameters\n",
        "\n",
        "period = 5 # in years\n",
        "numberofDays = 252 * period #252 trading days each year"
      ],
      "metadata": {
        "id": "g7D4SzGOgZMK"
      },
      "execution_count": 2,
      "outputs": []
    },
    {
      "cell_type": "markdown",
      "source": [
        "The parameters to determine the budgeted capex cost of Project X are adjusted every 6 months during the participation right. Therefore, we need to create a 6-month array before assigning the parameters into the daily array."
      ],
      "metadata": {
        "id": "fnFlCojQaUhE"
      }
    },
    {
      "cell_type": "code",
      "source": [
        "# initiate 6 month array\n",
        "\n",
        "basePrice_6month          = [29000,    29000,    29000,    29000,     29000,     29000,      29000,      29000,      29000,      29000,      29000  ]\n",
        "interest_6month           = [0.00,     0.04,     0.08,     0.12,      0.16,      0.20,       0.24,       0.28,       0.32,       0.36,       0.40   ]\n",
        "fixAdjustment_6month      = [1.0203,   1.0203,   1.0217,   1.0217,    1.0217,    1.0217,     1.0217,     1.0217,     1.0217,     1.0217,     1.0217 ]\n",
        "incentives_6month         = [0,        0,        0.05,     0.05,      0.10,      0.10,       0.10,       0.10,       0.05,       0.05,       0.05   ]\n",
        "nameplateCapacity_6month  = [120000,   120000,   120000,   120000,    120000,    120000,     120000,     120000,     120000,     120000,     120000 ]"
      ],
      "metadata": {
        "id": "LZWE6hQS57vV"
      },
      "execution_count": 3,
      "outputs": []
    },
    {
      "cell_type": "code",
      "source": [
        "# initiate daily array to calculate budgeted capex\n",
        "\n",
        "basePrice = np.zeros(numberofDays+1)\n",
        "interest = np.zeros(numberofDays+1)\n",
        "fxAdjustment = np.zeros(numberofDays+1)\n",
        "incentives = np.zeros(numberofDays+1)\n",
        "nameplateCapacity = np.zeros(numberofDays+1)"
      ],
      "metadata": {
        "id": "Xc9_y2L4MCXn"
      },
      "execution_count": 4,
      "outputs": []
    },
    {
      "cell_type": "markdown",
      "source": [
        "To assign 6-month parameters to the daily array, we need a function that assigns the parameters for each 6-month period."
      ],
      "metadata": {
        "id": "Tq_-pnWPbmSB"
      }
    },
    {
      "cell_type": "code",
      "source": [
        "# assign 6 month array into daily array\n",
        "\n",
        "def sixmonthToDaily(dailyArray,sixmonthArray):\n",
        "  j = 0\n",
        "  for i in range(len(dailyArray)):\n",
        "    if i>0 and (i % (6 * 21) == 0):\n",
        "      j = j + 1\n",
        "    dailyArray[i] = sixmonthArray[j]\n",
        "  return dailyArray"
      ],
      "metadata": {
        "id": "twr0uMZDx7Lf"
      },
      "execution_count": 5,
      "outputs": []
    },
    {
      "cell_type": "code",
      "source": [
        "# convert array from 6 month to daily with functions above\n",
        "\n",
        "basePrice = sixmonthToDaily(basePrice,basePrice_6month)\n",
        "interest = sixmonthToDaily(interest,interest_6month)\n",
        "fxAdjustment = sixmonthToDaily(fxAdjustment,fixAdjustment_6month)\n",
        "incentives = sixmonthToDaily(incentives,incentives_6month)\n",
        "nameplateCapacity = sixmonthToDaily(nameplateCapacity,nameplateCapacity_6month)"
      ],
      "metadata": {
        "id": "5VzlX82wFtwa"
      },
      "execution_count": 6,
      "outputs": []
    },
    {
      "cell_type": "markdown",
      "source": [
        "The budgeted capex cost is determined based on following formula (definitive agreement):"
      ],
      "metadata": {
        "id": "G1VfTlcGcG4o"
      }
    },
    {
      "cell_type": "code",
      "source": [
        "budgetedCapex = basePrice * ((np.ones(numberofDays+1) + interest) * fxAdjustment + incentives) * nameplateCapacity # based on definitive agreement"
      ],
      "metadata": {
        "id": "GpJWvfTPIls_"
      },
      "execution_count": 7,
      "outputs": []
    },
    {
      "cell_type": "code",
      "source": [
        "budgetedCapex = budgetedCapex / 1e6 # convert to million usd"
      ],
      "metadata": {
        "id": "pFEt0_MyI5NI"
      },
      "execution_count": 8,
      "outputs": []
    },
    {
      "cell_type": "code",
      "source": [
        "print(f\"Budgeted Capex in Million USD: {budgetedCapex}\")"
      ],
      "metadata": {
        "colab": {
          "base_uri": "https://localhost:8080/"
        },
        "id": "ESpvswfiJGiV",
        "outputId": "7884494d-e784-4a13-9655-1e0f34b680bc"
      },
      "execution_count": 9,
      "outputs": [
        {
          "output_type": "stream",
          "name": "stdout",
          "text": [
            "Budgeted Capex in Million USD: [3550.644   3550.644   3550.644   ... 5009.50176 5009.50176 5151.7224 ]\n"
          ]
        }
      ]
    },
    {
      "cell_type": "code",
      "source": [
        "# initiate daily array to calculate strike price\n",
        "\n",
        "capexLoan = np.zeros(numberofDays+1)\n",
        "accruedCapex = np.zeros(numberofDays+1)\n",
        "firstprDeduction = np.zeros(numberofDays+1)"
      ],
      "metadata": {
        "id": "uWumgNGlMHRt"
      },
      "execution_count": 10,
      "outputs": []
    },
    {
      "cell_type": "code",
      "source": [
        "# in million usd\n",
        "\n",
        "capexLoan_6month         = [0,        2096,      1796,      1497,       1197,       898,      599,       299,        0,       0,       0      ]\n",
        "accruedCapex_6month      = [10,       10,        10,        10,         10,         10,       10,        10,         10,      10,      10     ]\n",
        "firstprDeduction_6month  = [12.26,    12.26,     12.26,     12.26,      12.26,      12.26,    12.26,     12.26,      12.26,   12.26,   12.26  ]"
      ],
      "metadata": {
        "id": "AIQ9g1sdMKyD"
      },
      "execution_count": 11,
      "outputs": []
    },
    {
      "cell_type": "code",
      "source": [
        "# convert to daily array\n",
        "\n",
        "capexLoan = sixmonthToDaily(capexLoan,capexLoan_6month)\n",
        "accruedCapex = sixmonthToDaily(accruedCapex,accruedCapex_6month)\n",
        "firstprDeduction = sixmonthToDaily(firstprDeduction,firstprDeduction_6month)"
      ],
      "metadata": {
        "id": "nHIFBVmj_7In"
      },
      "execution_count": 12,
      "outputs": []
    },
    {
      "cell_type": "markdown",
      "source": [
        "The exercise is determined using the following formula (definitive agreement):"
      ],
      "metadata": {
        "id": "9ewJJ2ZJcURF"
      }
    },
    {
      "cell_type": "code",
      "source": [
        "# calculate exercise price\n",
        "\n",
        "exercisePrice = budgetedCapex - capexLoan - accruedCapex - firstprDeduction\n",
        "exercisePrice = 0.3 * exercisePrice # 30% of underlying asset will be traded based on definitive agreement"
      ],
      "metadata": {
        "id": "WOFODyrmAbSL"
      },
      "execution_count": 13,
      "outputs": []
    },
    {
      "cell_type": "code",
      "source": [
        "print(f\"Exercise Price in Million USD: {exercisePrice}\")"
      ],
      "metadata": {
        "colab": {
          "base_uri": "https://localhost:8080/"
        },
        "id": "m5RDHclFAuVD",
        "outputId": "b648373e-3944-43eb-9af7-53f2ab54ef85"
      },
      "execution_count": 14,
      "outputs": [
        {
          "output_type": "stream",
          "name": "stdout",
          "text": [
            "Exercise Price in Million USD: [1058.5152   1058.5152   1058.5152   ... 1496.172528 1496.172528\n",
            " 1538.83872 ]\n"
          ]
        }
      ]
    },
    {
      "cell_type": "markdown",
      "source": [
        "## Calculate Binomial"
      ],
      "metadata": {
        "id": "jOW6LddqCXxC"
      }
    },
    {
      "cell_type": "markdown",
      "source": [
        "The following parameters are used to determine up move, down move, and their probabilities of the underlying asset's price."
      ],
      "metadata": {
        "id": "lc1Q_aPRcfpx"
      }
    },
    {
      "cell_type": "code",
      "source": [
        "# initiates american binomial option parameters\n",
        "\n",
        "volatility = 0.5282\n",
        "rf = 0.0438 # risk free rate\n",
        "dt = period / numberofDays # delta time\n",
        "underlyingAsset0 = 3683.1 * 0.3 # 30% of underlying asset will be traded based on definitive agreement"
      ],
      "metadata": {
        "id": "-A29JrEyQ_Ab"
      },
      "execution_count": 15,
      "outputs": []
    },
    {
      "cell_type": "code",
      "source": [
        "# calculate up down move\n",
        "\n",
        "up = np.exp(volatility * np.sqrt(dt))\n",
        "down = 1 / up\n",
        "pu = (np.exp(rf * dt) - down) / (up - down) # probability up\n",
        "pd = 1 - pu # probability down"
      ],
      "metadata": {
        "id": "s9_lHLSiAv-M"
      },
      "execution_count": 16,
      "outputs": []
    },
    {
      "cell_type": "code",
      "source": [
        "# initiate matrix\n",
        "\n",
        "optionPrice = np.zeros((numberofDays+1, numberofDays+1))\n",
        "underlyingAsset = np.zeros((numberofDays+1, numberofDays+1))"
      ],
      "metadata": {
        "id": "2TIdKYwRSDRV"
      },
      "execution_count": 17,
      "outputs": []
    },
    {
      "cell_type": "markdown",
      "source": [
        "After that, we calculate the underlying asset movement in daily basis during participating right duration."
      ],
      "metadata": {
        "id": "1V471RSKcrq5"
      }
    },
    {
      "cell_type": "code",
      "source": [
        "# calculate underlying asset movement\n",
        "\n",
        "for j in range(numberofDays + 1):\n",
        "  underlyingAsset[j, numberofDays] = underlyingAsset0 * (up ** (numberofDays - j)) * (down ** j)\n",
        "\n",
        "for i in range(numberofDays - 1, -1, -1):\n",
        "  for j in range(i + 1):\n",
        "    underlyingAsset[j, i] = underlyingAsset[j, i + 1] / up\n",
        "\n",
        "underlyingAsset"
      ],
      "metadata": {
        "colab": {
          "base_uri": "https://localhost:8080/"
        },
        "id": "L1Yjp1zNZiOU",
        "outputId": "5ddd868d-1c8f-4623-fbde-e22e91c51145"
      },
      "execution_count": 18,
      "outputs": [
        {
          "output_type": "execute_result",
          "data": {
            "text/plain": [
              "array([[1.10493000e+03, 1.14231335e+03, 1.18096149e+03, ...,\n",
              "        1.66742187e+21, 1.72383613e+21, 1.78215906e+21],\n",
              "       [0.00000000e+00, 1.06877006e+03, 1.10493000e+03, ...,\n",
              "        1.56007157e+21, 1.61285382e+21, 1.66742187e+21],\n",
              "       [0.00000000e+00, 0.00000000e+00, 1.03379349e+03, ...,\n",
              "        1.45963259e+21, 1.50901667e+21, 1.56007157e+21],\n",
              "       ...,\n",
              "       [0.00000000e+00, 0.00000000e+00, 0.00000000e+00, ...,\n",
              "        7.32190413e-16, 7.56962776e-16, 7.82573269e-16],\n",
              "       [0.00000000e+00, 0.00000000e+00, 0.00000000e+00, ...,\n",
              "        0.00000000e+00, 7.08228750e-16, 7.32190413e-16],\n",
              "       [0.00000000e+00, 0.00000000e+00, 0.00000000e+00, ...,\n",
              "        0.00000000e+00, 0.00000000e+00, 6.85051256e-16]])"
            ]
          },
          "metadata": {},
          "execution_count": 18
        }
      ]
    },
    {
      "cell_type": "markdown",
      "source": [
        "Finally, after calculating the underlying asset movement, we calculate the option price of executing (buying) X project during participating right."
      ],
      "metadata": {
        "id": "y28PVWjuc_Eb"
      }
    },
    {
      "cell_type": "code",
      "source": [
        "# calculate option price\n",
        "\n",
        "for j in range(numberofDays + 1):\n",
        "  optionPrice[j, numberofDays] = max(0, underlyingAsset[j, numberofDays] - exercisePrice[j])\n",
        "\n",
        "for i in range(numberofDays - 1, -1, -1):\n",
        "  for j in range(i + 1):\n",
        "    optionPrice[j, i] = max(0, underlyingAsset[j, i] - exercisePrice[j], np.exp(-rf * dt) * (pu * optionPrice[j, i + 1] + (1 - pu) * optionPrice[j + 1, i + 1]))\n",
        "\n",
        "\n",
        "optionPrice"
      ],
      "metadata": {
        "colab": {
          "base_uri": "https://localhost:8080/"
        },
        "id": "gOxv9uWRvQlJ",
        "outputId": "733df740-a92f-41fe-8a54-bca0b6c36bbf"
      },
      "execution_count": 19,
      "outputs": [
        {
          "output_type": "execute_result",
          "data": {
            "text/plain": [
              "array([[7.10014608e+02, 7.44858745e+02, 7.81083105e+02, ...,\n",
              "        1.66742187e+21, 1.72383613e+21, 1.78215906e+21],\n",
              "       [0.00000000e+00, 6.76200834e+02, 7.09707872e+02, ...,\n",
              "        1.56007157e+21, 1.61285382e+21, 1.66742187e+21],\n",
              "       [0.00000000e+00, 0.00000000e+00, 6.43682363e+02, ...,\n",
              "        1.45963259e+21, 1.50901667e+21, 1.56007157e+21],\n",
              "       ...,\n",
              "       [0.00000000e+00, 0.00000000e+00, 0.00000000e+00, ...,\n",
              "        0.00000000e+00, 0.00000000e+00, 0.00000000e+00],\n",
              "       [0.00000000e+00, 0.00000000e+00, 0.00000000e+00, ...,\n",
              "        0.00000000e+00, 0.00000000e+00, 0.00000000e+00],\n",
              "       [0.00000000e+00, 0.00000000e+00, 0.00000000e+00, ...,\n",
              "        0.00000000e+00, 0.00000000e+00, 0.00000000e+00]])"
            ]
          },
          "metadata": {},
          "execution_count": 19
        }
      ]
    },
    {
      "cell_type": "markdown",
      "source": [
        "So, from above calculation, the option price to buy 30% of underlying asset of X project:"
      ],
      "metadata": {
        "id": "CEb6upaKdLjn"
      }
    },
    {
      "cell_type": "code",
      "source": [
        "print(f\"Option Price: {optionPrice[0][0]} million USD\")"
      ],
      "metadata": {
        "colab": {
          "base_uri": "https://localhost:8080/"
        },
        "id": "fmGSiMVtwXwL",
        "outputId": "970f1777-9755-4ded-eb2a-e35439c435b5"
      },
      "execution_count": 20,
      "outputs": [
        {
          "output_type": "stream",
          "name": "stdout",
          "text": [
            "Option Price: 710.0146079070705 million USD\n"
          ]
        }
      ]
    }
  ]
}